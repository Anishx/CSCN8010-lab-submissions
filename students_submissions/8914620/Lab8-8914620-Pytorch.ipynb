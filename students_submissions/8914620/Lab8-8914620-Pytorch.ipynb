{
 "cells": [
  {
   "cell_type": "markdown",
   "metadata": {},
   "source": [
    "## **LABORATORY 8** - *Pytorch*\n",
    "#### ANEESH KRISHNA RAMESH - 8914620 \n",
    "---\n",
    "---"
   ]
  },
  {
   "cell_type": "markdown",
   "metadata": {},
   "source": [
    "## ***Verifying Jupyter kernels***"
   ]
  },
  {
   "cell_type": "code",
   "execution_count": 1,
   "metadata": {},
   "outputs": [
    {
     "name": "stdout",
     "output_type": "stream",
     "text": [
      "0.00s - Debugger warning: It seems that frozen modules are being used, which may\n",
      "0.00s - make the debugger miss breakpoints. Please pass -Xfrozen_modules=off\n",
      "0.00s - to python to disable frozen modules.\n",
      "0.00s - Note: Debugging will proceed. Set PYDEVD_DISABLE_FILE_VALIDATION=1 to disable this validation.\n",
      "Available kernels:\n",
      "  pytorch            /Users/amby/Library/Jupyter/kernels/pytorch\n",
      "  tensorflow         /Users/amby/Library/Jupyter/kernels/tensorflow\n",
      "  jupyternotebook    /usr/local/share/jupyter/kernels/jupyternotebook\n",
      "  python3            /usr/local/share/jupyter/kernels/python3\n"
     ]
    }
   ],
   "source": [
    "!jupyter kernelspec list"
   ]
  },
  {
   "cell_type": "code",
   "execution_count": 2,
   "metadata": {},
   "outputs": [],
   "source": [
    "import sys\n",
    "import torch"
   ]
  },
  {
   "cell_type": "markdown",
   "metadata": {},
   "source": [
    "## ***Verifying Pytorch & Tensorflow***"
   ]
  },
  {
   "cell_type": "code",
   "execution_count": 3,
   "metadata": {},
   "outputs": [
    {
     "name": "stdout",
     "output_type": "stream",
     "text": [
      "Tensor: tensor([10, 10])\n",
      "PyTorch version: 2.0.0\n",
      "Succeeded\n"
     ]
    }
   ],
   "source": [
    "#Test pytorch\n",
    "try:\n",
    "    import torch\n",
    "    print(f'Tensor: {torch.tensor([10, 10])}')\n",
    "    print(f'PyTorch version: {torch.__version__}')    \n",
    "    print('Succeeded')\n",
    "except:\n",
    "    print(\"Didn't succeed\")"
   ]
  },
  {
   "cell_type": "markdown",
   "metadata": {},
   "source": [
    "## ***Question 1*** -  \n",
    "### 1. Calculate the dot product between two vectors each of length 3\n",
    "### 2. Calculate the matrix multiplication of two 2-dimensional matrices, each with a size of (2,2)"
   ]
  },
  {
   "cell_type": "code",
   "execution_count": 4,
   "metadata": {},
   "outputs": [
    {
     "name": "stdout",
     "output_type": "stream",
     "text": [
      "Torch Dot Product :  tensor(10.)\n"
     ]
    }
   ],
   "source": [
    "#1.1 \n",
    "v1 = torch.tensor([3.0,2.0,1.0])\n",
    "v2 = torch.tensor([1.0,2.0,3.0])\n",
    "\n",
    "dot = torch.dot(v1,v2)\n",
    "#OR\n",
    "dot = v1.dot(v2)\n",
    "\n",
    "print(\"Torch Dot Product : \",dot)\n"
   ]
  },
  {
   "cell_type": "code",
   "execution_count": 5,
   "metadata": {},
   "outputs": [
    {
     "name": "stdout",
     "output_type": "stream",
     "text": [
      "Torch Matrix Multiplication : \n",
      " tensor([[50., 67.],\n",
      "        [38., 51.]])\n"
     ]
    }
   ],
   "source": [
    "#1.2 \n",
    "m1 = torch.tensor([[9., 8.],[7., 6.]])\n",
    "m2 = torch.tensor([[2., 3.],[4., 5.]])\n",
    "\n",
    "mul = torch.matmul(m1, m2)\n",
    "#OR \n",
    "mul = m1.matmul(m2)\n",
    "\n",
    "print(\"Torch Matrix Multiplication : \\n\",mul)\n",
    "\n"
   ]
  },
  {
   "cell_type": "markdown",
   "metadata": {},
   "source": [
    "#### End of question 1, Please visit Lab8-8914620-TensorFlow.ipynb for question 2 :\n",
    "#### https://anishx.github.io/CSCN8010-lab-submissions/8914620/Lab8-8914620-Tensorflow.html\n",
    "---\n",
    "---"
   ]
  }
 ],
 "metadata": {
  "kernelspec": {
   "display_name": "jupyterNotebook",
   "language": "python",
   "name": "jupyternotebook"
  },
  "language_info": {
   "codemirror_mode": {
    "name": "ipython",
    "version": 3
   },
   "file_extension": ".py",
   "mimetype": "text/x-python",
   "name": "python",
   "nbconvert_exporter": "python",
   "pygments_lexer": "ipython3",
   "version": "3.11.6"
  }
 },
 "nbformat": 4,
 "nbformat_minor": 2
}
